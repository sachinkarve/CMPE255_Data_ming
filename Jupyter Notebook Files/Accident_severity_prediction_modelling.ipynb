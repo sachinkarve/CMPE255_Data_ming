{
 "cells": [
  {
   "cell_type": "code",
   "execution_count": 1,
   "metadata": {
    "colab": {
     "base_uri": "https://localhost:8080/",
     "height": 17
    },
    "id": "ZgDFeDU24fKh",
    "outputId": "f09a37b9-86eb-4860-c088-93dececa6d18"
   },
   "outputs": [
    {
     "data": {
      "text/html": [
       "        <script type=\"text/javascript\">\n",
       "        window.PlotlyConfig = {MathJaxConfig: 'local'};\n",
       "        if (window.MathJax) {MathJax.Hub.Config({SVG: {font: \"STIX-Web\"}});}\n",
       "        if (typeof require !== 'undefined') {\n",
       "        require.undef(\"plotly\");\n",
       "        requirejs.config({\n",
       "            paths: {\n",
       "                'plotly': ['https://cdn.plot.ly/plotly-latest.min']\n",
       "            }\n",
       "        });\n",
       "        require(['plotly'], function(Plotly) {\n",
       "            window._Plotly = Plotly;\n",
       "        });\n",
       "        }\n",
       "        </script>\n",
       "        "
      ]
     },
     "metadata": {
      "tags": []
     },
     "output_type": "display_data"
    }
   ],
   "source": [
    "import pandas as pd\n",
    "import numpy as np\n",
    "from matplotlib import pyplot as plt\n",
    "import seaborn as sns\n",
    "import plotly.express as px\n",
    "from plotly.offline import init_notebook_mode, iplot\n",
    "import plotly.graph_objects as go\n",
    "import warnings\n",
    "\n",
    "init_notebook_mode(connected=True)\n",
    "\n",
    "warnings.filterwarnings(\"ignore\")\n",
    "\n",
    "%matplotlib inline"
   ]
  },
  {
   "cell_type": "code",
   "execution_count": 2,
   "metadata": {
    "colab": {
     "base_uri": "https://localhost:8080/"
    },
    "id": "AdfbN7LS4lLg",
    "outputId": "d0b3fc0e-eebf-4a38-d4ca-96c50083240f"
   },
   "outputs": [
    {
     "name": "stdout",
     "output_type": "stream",
     "text": [
      "Mounted at /content/drive/\n"
     ]
    }
   ],
   "source": [
    " from google.colab import files\n",
    "# uploaded = files.upload()\n",
    "from google.colab import drive\n",
    "drive.mount('/content/drive/')"
   ]
  },
  {
   "cell_type": "code",
   "execution_count": 3,
   "metadata": {
    "id": "tzHRx0aD4lO9"
   },
   "outputs": [],
   "source": [
    "from pydrive.auth import GoogleAuth\n",
    "from pydrive.drive import GoogleDrive\n",
    "from google.colab import auth\n",
    "from oauth2client.client import GoogleCredentials\n",
    "\n",
    "auth.authenticate_user()\n",
    "gauth = GoogleAuth()\n",
    "gauth.credentials = GoogleCredentials.get_application_default()\n",
    "drive = GoogleDrive(gauth)"
   ]
  },
  {
   "cell_type": "code",
   "execution_count": 4,
   "metadata": {
    "id": "MF9j0nzq4lQh"
   },
   "outputs": [],
   "source": [
    "file_id = \"1ymI30vvIKRS2kQFoHQqCuLRxlCP9zIDD\"\n",
    "downloaded = drive.CreateFile({'id':file_id}) \n",
    "downloaded.GetContentFile('Accidents_data_file.csv')  \n",
    "data = pd.read_csv('Accidents_data_file.csv')"
   ]
  },
  {
   "cell_type": "code",
   "execution_count": 5,
   "metadata": {
    "id": "piw8Jl-l4lSQ"
   },
   "outputs": [],
   "source": [
    "from sklearn.preprocessing import StandardScaler\n",
    "from sklearn.model_selection import train_test_split\n",
    "\n",
    "import tensorflow as tf"
   ]
  },
  {
   "cell_type": "code",
   "execution_count": 6,
   "metadata": {
    "colab": {
     "base_uri": "https://localhost:8080/"
    },
    "id": "VxnnZKZ64lT1",
    "outputId": "cb36ecf9-6ae1-4eef-e028-d2d1e70d1245"
   },
   "outputs": [
    {
     "name": "stdout",
     "output_type": "stream",
     "text": [
      "<class 'pandas.core.frame.DataFrame'>\n",
      "RangeIndex: 2906610 entries, 0 to 2906609\n",
      "Data columns (total 47 columns):\n",
      " #   Column                 Dtype  \n",
      "---  ------                 -----  \n",
      " 0   ID                     object \n",
      " 1   Severity               int64  \n",
      " 2   Start_Time             object \n",
      " 3   End_Time               object \n",
      " 4   Start_Lat              float64\n",
      " 5   Start_Lng              float64\n",
      " 6   End_Lat                float64\n",
      " 7   End_Lng                float64\n",
      " 8   Distance(mi)           float64\n",
      " 9   Description            object \n",
      " 10  Number                 float64\n",
      " 11  Street                 object \n",
      " 12  Side                   object \n",
      " 13  City                   object \n",
      " 14  County                 object \n",
      " 15  State                  object \n",
      " 16  Zipcode                object \n",
      " 17  Country                object \n",
      " 18  Timezone               object \n",
      " 19  Airport_Code           object \n",
      " 20  Weather_Timestamp      object \n",
      " 21  Temperature(F)         float64\n",
      " 22  Wind_Chill(F)          float64\n",
      " 23  Humidity(%)            float64\n",
      " 24  Pressure(in)           float64\n",
      " 25  Visibility(mi)         float64\n",
      " 26  Wind_Direction         object \n",
      " 27  Wind_Speed(mph)        float64\n",
      " 28  Precipitation(in)      float64\n",
      " 29  Weather_Condition      object \n",
      " 30  Amenity                bool   \n",
      " 31  Bump                   bool   \n",
      " 32  Crossing               bool   \n",
      " 33  Give_Way               bool   \n",
      " 34  Junction               bool   \n",
      " 35  No_Exit                bool   \n",
      " 36  Railway                bool   \n",
      " 37  Roundabout             bool   \n",
      " 38  Station                bool   \n",
      " 39  Stop                   bool   \n",
      " 40  Traffic_Calming        bool   \n",
      " 41  Traffic_Signal         bool   \n",
      " 42  Turning_Loop           bool   \n",
      " 43  Sunrise_Sunset         object \n",
      " 44  Civil_Twilight         object \n",
      " 45  Nautical_Twilight      object \n",
      " 46  Astronomical_Twilight  object \n",
      "dtypes: bool(13), float64(13), int64(1), object(20)\n",
      "memory usage: 790.0+ MB\n"
     ]
    }
   ],
   "source": [
    "data.info()"
   ]
  },
  {
   "cell_type": "code",
   "execution_count": 7,
   "metadata": {
    "colab": {
     "base_uri": "https://localhost:8080/"
    },
    "id": "EvQMSKcr4lVc",
    "outputId": "56e1f562-54c7-49b2-aea7-0e7e3b928508"
   },
   "outputs": [
    {
     "data": {
      "text/plain": [
       "ID                       0.000000\n",
       "Severity                 0.000000\n",
       "Start_Time               0.000000\n",
       "End_Time                 0.000000\n",
       "Start_Lat                0.000000\n",
       "Start_Lng                0.000000\n",
       "End_Lat                  0.097303\n",
       "End_Lng                  0.097303\n",
       "Distance(mi)             0.000000\n",
       "Description              0.000000\n",
       "Number                   0.650817\n",
       "Street                   0.000000\n",
       "Side                     0.000000\n",
       "City                     0.000037\n",
       "County                   0.000000\n",
       "State                    0.000000\n",
       "Zipcode                  0.000383\n",
       "Country                  0.000000\n",
       "Timezone                 0.001180\n",
       "Airport_Code             0.002273\n",
       "Weather_Timestamp        0.016141\n",
       "Temperature(F)           0.023128\n",
       "Wind_Chill(F)            0.407299\n",
       "Humidity(%)              0.024520\n",
       "Pressure(in)             0.019579\n",
       "Visibility(mi)           0.024798\n",
       "Wind_Direction           0.021838\n",
       "Wind_Speed(mph)          0.105677\n",
       "Precipitation(in)        0.447713\n",
       "Weather_Condition        0.024720\n",
       "Amenity                  0.000000\n",
       "Bump                     0.000000\n",
       "Crossing                 0.000000\n",
       "Give_Way                 0.000000\n",
       "Junction                 0.000000\n",
       "No_Exit                  0.000000\n",
       "Railway                  0.000000\n",
       "Roundabout               0.000000\n",
       "Station                  0.000000\n",
       "Stop                     0.000000\n",
       "Traffic_Calming          0.000000\n",
       "Traffic_Signal           0.000000\n",
       "Turning_Loop             0.000000\n",
       "Sunrise_Sunset           0.000038\n",
       "Civil_Twilight           0.000038\n",
       "Nautical_Twilight        0.000038\n",
       "Astronomical_Twilight    0.000038\n",
       "dtype: float64"
      ]
     },
     "execution_count": 7,
     "metadata": {
      "tags": []
     },
     "output_type": "execute_result"
    }
   ],
   "source": [
    "data.isna().mean()"
   ]
  },
  {
   "cell_type": "code",
   "execution_count": 8,
   "metadata": {
    "id": "vfH39DfL4lXS"
   },
   "outputs": [],
   "source": [
    "null_columns = ['End_Lat', 'End_Lng', 'Number', 'Wind_Chill(F)', 'Precipitation(in)']\n",
    "\n",
    "data.drop(null_columns, axis=1, inplace = True)"
   ]
  },
  {
   "cell_type": "code",
   "execution_count": 9,
   "metadata": {
    "colab": {
     "base_uri": "https://localhost:8080/"
    },
    "id": "ZmOidVuy4lYy",
    "outputId": "bd765b6a-b8eb-4a5e-fc33-846bcf193a0e"
   },
   "outputs": [
    {
     "data": {
      "text/plain": [
       "ID                            0\n",
       "Severity                      0\n",
       "Start_Time                    0\n",
       "End_Time                      0\n",
       "Start_Lat                     0\n",
       "Start_Lng                     0\n",
       "Distance(mi)                  0\n",
       "Description                   0\n",
       "Street                        0\n",
       "Side                          0\n",
       "City                        108\n",
       "County                        0\n",
       "State                         0\n",
       "Zipcode                    1114\n",
       "Country                       0\n",
       "Timezone                   3430\n",
       "Airport_Code               6608\n",
       "Weather_Timestamp         46917\n",
       "Temperature(F)            67224\n",
       "Humidity(%)               71270\n",
       "Pressure(in)              56908\n",
       "Visibility(mi)            72078\n",
       "Wind_Direction            63474\n",
       "Wind_Speed(mph)          307163\n",
       "Weather_Condition         71851\n",
       "Amenity                       0\n",
       "Bump                          0\n",
       "Crossing                      0\n",
       "Give_Way                      0\n",
       "Junction                      0\n",
       "No_Exit                       0\n",
       "Railway                       0\n",
       "Roundabout                    0\n",
       "Station                       0\n",
       "Stop                          0\n",
       "Traffic_Calming               0\n",
       "Traffic_Signal                0\n",
       "Turning_Loop                  0\n",
       "Sunrise_Sunset              110\n",
       "Civil_Twilight              110\n",
       "Nautical_Twilight           110\n",
       "Astronomical_Twilight       110\n",
       "dtype: int64"
      ]
     },
     "execution_count": 9,
     "metadata": {
      "tags": []
     },
     "output_type": "execute_result"
    }
   ],
   "source": [
    "data.isna().sum()"
   ]
  },
  {
   "cell_type": "code",
   "execution_count": 10,
   "metadata": {
    "id": "-xt2N25K4lam"
   },
   "outputs": [],
   "source": [
    "data.dropna(axis=0, inplace = True)"
   ]
  },
  {
   "cell_type": "code",
   "execution_count": 11,
   "metadata": {
    "colab": {
     "base_uri": "https://localhost:8080/",
     "height": 530
    },
    "id": "fAcASStt4lcP",
    "outputId": "c6046068-3e3c-49b1-c641-59e6091da42e"
   },
   "outputs": [
    {
     "data": {
      "text/html": [
       "<div>\n",
       "<style scoped>\n",
       "    .dataframe tbody tr th:only-of-type {\n",
       "        vertical-align: middle;\n",
       "    }\n",
       "\n",
       "    .dataframe tbody tr th {\n",
       "        vertical-align: top;\n",
       "    }\n",
       "\n",
       "    .dataframe thead th {\n",
       "        text-align: right;\n",
       "    }\n",
       "</style>\n",
       "<table border=\"1\" class=\"dataframe\">\n",
       "  <thead>\n",
       "    <tr style=\"text-align: right;\">\n",
       "      <th></th>\n",
       "      <th>ID</th>\n",
       "      <th>Severity</th>\n",
       "      <th>Start_Time</th>\n",
       "      <th>End_Time</th>\n",
       "      <th>Start_Lat</th>\n",
       "      <th>Start_Lng</th>\n",
       "      <th>Distance(mi)</th>\n",
       "      <th>Description</th>\n",
       "      <th>Street</th>\n",
       "      <th>Side</th>\n",
       "      <th>City</th>\n",
       "      <th>County</th>\n",
       "      <th>State</th>\n",
       "      <th>Zipcode</th>\n",
       "      <th>Country</th>\n",
       "      <th>Timezone</th>\n",
       "      <th>Airport_Code</th>\n",
       "      <th>Weather_Timestamp</th>\n",
       "      <th>Temperature(F)</th>\n",
       "      <th>Humidity(%)</th>\n",
       "      <th>Pressure(in)</th>\n",
       "      <th>Visibility(mi)</th>\n",
       "      <th>Wind_Direction</th>\n",
       "      <th>Wind_Speed(mph)</th>\n",
       "      <th>Weather_Condition</th>\n",
       "      <th>Amenity</th>\n",
       "      <th>Bump</th>\n",
       "      <th>Crossing</th>\n",
       "      <th>Give_Way</th>\n",
       "      <th>Junction</th>\n",
       "      <th>No_Exit</th>\n",
       "      <th>Railway</th>\n",
       "      <th>Roundabout</th>\n",
       "      <th>Station</th>\n",
       "      <th>Stop</th>\n",
       "      <th>Traffic_Calming</th>\n",
       "      <th>Traffic_Signal</th>\n",
       "      <th>Turning_Loop</th>\n",
       "      <th>Sunrise_Sunset</th>\n",
       "      <th>Civil_Twilight</th>\n",
       "      <th>Nautical_Twilight</th>\n",
       "      <th>Astronomical_Twilight</th>\n",
       "    </tr>\n",
       "  </thead>\n",
       "  <tbody>\n",
       "    <tr>\n",
       "      <th>0</th>\n",
       "      <td>A-1</td>\n",
       "      <td>2</td>\n",
       "      <td>2019-05-21 08:29:55</td>\n",
       "      <td>2019-05-21 09:29:40</td>\n",
       "      <td>34.808868</td>\n",
       "      <td>-82.269157</td>\n",
       "      <td>0.0</td>\n",
       "      <td>Accident on Tanner Rd at Pennbrooke Ln.</td>\n",
       "      <td>Tanner Rd</td>\n",
       "      <td>R</td>\n",
       "      <td>Greenville</td>\n",
       "      <td>Greenville</td>\n",
       "      <td>SC</td>\n",
       "      <td>29607-6027</td>\n",
       "      <td>US</td>\n",
       "      <td>US/Eastern</td>\n",
       "      <td>KGMU</td>\n",
       "      <td>2019-05-21 08:53:00</td>\n",
       "      <td>76.0</td>\n",
       "      <td>52.0</td>\n",
       "      <td>28.91</td>\n",
       "      <td>10.0</td>\n",
       "      <td>N</td>\n",
       "      <td>7.0</td>\n",
       "      <td>Fair</td>\n",
       "      <td>False</td>\n",
       "      <td>False</td>\n",
       "      <td>False</td>\n",
       "      <td>False</td>\n",
       "      <td>False</td>\n",
       "      <td>False</td>\n",
       "      <td>False</td>\n",
       "      <td>False</td>\n",
       "      <td>False</td>\n",
       "      <td>False</td>\n",
       "      <td>False</td>\n",
       "      <td>False</td>\n",
       "      <td>False</td>\n",
       "      <td>Day</td>\n",
       "      <td>Day</td>\n",
       "      <td>Day</td>\n",
       "      <td>Day</td>\n",
       "    </tr>\n",
       "    <tr>\n",
       "      <th>1</th>\n",
       "      <td>A-2</td>\n",
       "      <td>2</td>\n",
       "      <td>2019-10-07 17:43:09</td>\n",
       "      <td>2019-10-07 19:42:50</td>\n",
       "      <td>35.090080</td>\n",
       "      <td>-80.745560</td>\n",
       "      <td>0.0</td>\n",
       "      <td>Accident on Houston Branch Rd at Providence Br...</td>\n",
       "      <td>Providence Branch Ln</td>\n",
       "      <td>R</td>\n",
       "      <td>Charlotte</td>\n",
       "      <td>Mecklenburg</td>\n",
       "      <td>NC</td>\n",
       "      <td>28270-8560</td>\n",
       "      <td>US</td>\n",
       "      <td>US/Eastern</td>\n",
       "      <td>KEQY</td>\n",
       "      <td>2019-10-07 17:53:00</td>\n",
       "      <td>76.0</td>\n",
       "      <td>62.0</td>\n",
       "      <td>29.30</td>\n",
       "      <td>10.0</td>\n",
       "      <td>VAR</td>\n",
       "      <td>3.0</td>\n",
       "      <td>Cloudy</td>\n",
       "      <td>False</td>\n",
       "      <td>False</td>\n",
       "      <td>False</td>\n",
       "      <td>False</td>\n",
       "      <td>False</td>\n",
       "      <td>False</td>\n",
       "      <td>False</td>\n",
       "      <td>False</td>\n",
       "      <td>False</td>\n",
       "      <td>False</td>\n",
       "      <td>False</td>\n",
       "      <td>False</td>\n",
       "      <td>False</td>\n",
       "      <td>Day</td>\n",
       "      <td>Day</td>\n",
       "      <td>Day</td>\n",
       "      <td>Day</td>\n",
       "    </tr>\n",
       "    <tr>\n",
       "      <th>2</th>\n",
       "      <td>A-3</td>\n",
       "      <td>2</td>\n",
       "      <td>2020-12-13 21:53:00</td>\n",
       "      <td>2020-12-13 22:44:00</td>\n",
       "      <td>37.145730</td>\n",
       "      <td>-121.985052</td>\n",
       "      <td>1.4</td>\n",
       "      <td>Stationary traffic on CA-17 from Summit Rd (CA...</td>\n",
       "      <td>Santa Cruz Hwy</td>\n",
       "      <td>R</td>\n",
       "      <td>Los Gatos</td>\n",
       "      <td>Santa Clara</td>\n",
       "      <td>CA</td>\n",
       "      <td>95033</td>\n",
       "      <td>US</td>\n",
       "      <td>US/Pacific</td>\n",
       "      <td>KSJC</td>\n",
       "      <td>2020-12-13 21:53:00</td>\n",
       "      <td>51.0</td>\n",
       "      <td>80.0</td>\n",
       "      <td>30.17</td>\n",
       "      <td>10.0</td>\n",
       "      <td>W</td>\n",
       "      <td>6.0</td>\n",
       "      <td>Fair</td>\n",
       "      <td>False</td>\n",
       "      <td>False</td>\n",
       "      <td>False</td>\n",
       "      <td>False</td>\n",
       "      <td>False</td>\n",
       "      <td>False</td>\n",
       "      <td>False</td>\n",
       "      <td>False</td>\n",
       "      <td>False</td>\n",
       "      <td>False</td>\n",
       "      <td>False</td>\n",
       "      <td>False</td>\n",
       "      <td>False</td>\n",
       "      <td>Night</td>\n",
       "      <td>Night</td>\n",
       "      <td>Night</td>\n",
       "      <td>Night</td>\n",
       "    </tr>\n",
       "    <tr>\n",
       "      <th>3</th>\n",
       "      <td>A-4</td>\n",
       "      <td>2</td>\n",
       "      <td>2018-04-17 16:51:23</td>\n",
       "      <td>2018-04-17 17:50:46</td>\n",
       "      <td>39.110390</td>\n",
       "      <td>-119.773781</td>\n",
       "      <td>0.0</td>\n",
       "      <td>Accident on US-395 Southbound at Topsy Ln.</td>\n",
       "      <td>US Highway 395 S</td>\n",
       "      <td>R</td>\n",
       "      <td>Carson City</td>\n",
       "      <td>Douglas</td>\n",
       "      <td>NV</td>\n",
       "      <td>89705</td>\n",
       "      <td>US</td>\n",
       "      <td>US/Pacific</td>\n",
       "      <td>KCXP</td>\n",
       "      <td>2018-04-17 16:55:00</td>\n",
       "      <td>53.6</td>\n",
       "      <td>16.0</td>\n",
       "      <td>30.16</td>\n",
       "      <td>10.0</td>\n",
       "      <td>SSW</td>\n",
       "      <td>4.6</td>\n",
       "      <td>Clear</td>\n",
       "      <td>False</td>\n",
       "      <td>False</td>\n",
       "      <td>False</td>\n",
       "      <td>False</td>\n",
       "      <td>False</td>\n",
       "      <td>False</td>\n",
       "      <td>False</td>\n",
       "      <td>False</td>\n",
       "      <td>False</td>\n",
       "      <td>False</td>\n",
       "      <td>False</td>\n",
       "      <td>True</td>\n",
       "      <td>False</td>\n",
       "      <td>Day</td>\n",
       "      <td>Day</td>\n",
       "      <td>Day</td>\n",
       "      <td>Day</td>\n",
       "    </tr>\n",
       "    <tr>\n",
       "      <th>4</th>\n",
       "      <td>A-5</td>\n",
       "      <td>3</td>\n",
       "      <td>2016-08-31 17:40:49</td>\n",
       "      <td>2016-08-31 18:10:49</td>\n",
       "      <td>26.102942</td>\n",
       "      <td>-80.265091</td>\n",
       "      <td>0.0</td>\n",
       "      <td>Accident on I-595 Westbound at Exit 4 / Pine I...</td>\n",
       "      <td>I-595 W</td>\n",
       "      <td>R</td>\n",
       "      <td>Fort Lauderdale</td>\n",
       "      <td>Broward</td>\n",
       "      <td>FL</td>\n",
       "      <td>33324</td>\n",
       "      <td>US</td>\n",
       "      <td>US/Eastern</td>\n",
       "      <td>KHWO</td>\n",
       "      <td>2016-08-31 17:53:00</td>\n",
       "      <td>84.2</td>\n",
       "      <td>84.0</td>\n",
       "      <td>29.92</td>\n",
       "      <td>10.0</td>\n",
       "      <td>SSE</td>\n",
       "      <td>13.8</td>\n",
       "      <td>Overcast</td>\n",
       "      <td>False</td>\n",
       "      <td>False</td>\n",
       "      <td>False</td>\n",
       "      <td>False</td>\n",
       "      <td>True</td>\n",
       "      <td>False</td>\n",
       "      <td>False</td>\n",
       "      <td>False</td>\n",
       "      <td>False</td>\n",
       "      <td>False</td>\n",
       "      <td>False</td>\n",
       "      <td>True</td>\n",
       "      <td>False</td>\n",
       "      <td>Day</td>\n",
       "      <td>Day</td>\n",
       "      <td>Day</td>\n",
       "      <td>Day</td>\n",
       "    </tr>\n",
       "  </tbody>\n",
       "</table>\n",
       "</div>"
      ],
      "text/plain": [
       "    ID  Severity  ... Nautical_Twilight Astronomical_Twilight\n",
       "0  A-1         2  ...               Day                   Day\n",
       "1  A-2         2  ...               Day                   Day\n",
       "2  A-3         2  ...             Night                 Night\n",
       "3  A-4         2  ...               Day                   Day\n",
       "4  A-5         3  ...               Day                   Day\n",
       "\n",
       "[5 rows x 42 columns]"
      ]
     },
     "execution_count": 11,
     "metadata": {
      "tags": []
     },
     "output_type": "execute_result"
    }
   ],
   "source": [
    "data.head()"
   ]
  },
  {
   "cell_type": "code",
   "execution_count": 12,
   "metadata": {
    "colab": {
     "base_uri": "https://localhost:8080/"
    },
    "id": "LaTiZbFO4leE",
    "outputId": "c10ebc43-9078-42e6-c312-0aeb6c85434a"
   },
   "outputs": [
    {
     "name": "stdout",
     "output_type": "stream",
     "text": [
      "Total missing values: 0\n"
     ]
    }
   ],
   "source": [
    "print(\"Total missing values:\", data.isna().sum().sum())"
   ]
  },
  {
   "cell_type": "code",
   "execution_count": 13,
   "metadata": {
    "colab": {
     "base_uri": "https://localhost:8080/"
    },
    "id": "q91UQRoX4lfy",
    "outputId": "1e0d755e-a60d-4c1f-8612-252c5b106c02"
   },
   "outputs": [
    {
     "data": {
      "text/plain": [
       "{'Airport_Code': 1975,\n",
       " 'Astronomical_Twilight': 2,\n",
       " 'City': 11367,\n",
       " 'Civil_Twilight': 2,\n",
       " 'Country': 1,\n",
       " 'County': 1707,\n",
       " 'Description': 1331271,\n",
       " 'End_Time': 2230030,\n",
       " 'ID': 2571316,\n",
       " 'Nautical_Twilight': 2,\n",
       " 'Side': 3,\n",
       " 'Start_Time': 2114391,\n",
       " 'State': 49,\n",
       " 'Street': 164333,\n",
       " 'Sunrise_Sunset': 2,\n",
       " 'Timezone': 4,\n",
       " 'Weather_Condition': 124,\n",
       " 'Weather_Timestamp': 478143,\n",
       " 'Wind_Direction': 23,\n",
       " 'Zipcode': 339727}"
      ]
     },
     "execution_count": 13,
     "metadata": {
      "tags": []
     },
     "output_type": "execute_result"
    }
   ],
   "source": [
    "{column: len(data[column].unique()) for column in data.columns if data.dtypes[column] == 'object'}"
   ]
  },
  {
   "cell_type": "code",
   "execution_count": 14,
   "metadata": {
    "id": "NoSbGgkF4lhY"
   },
   "outputs": [],
   "source": [
    "unneeded_columns = ['ID', 'Description', 'Street', 'City', 'Zipcode', 'Country']\n",
    "data.columns.to_list()\n",
    "data.drop(unneeded_columns, axis=1, inplace = True)"
   ]
  },
  {
   "cell_type": "code",
   "execution_count": 15,
   "metadata": {
    "colab": {
     "base_uri": "https://localhost:8080/"
    },
    "id": "8bmg8jYg4lja",
    "outputId": "1cae971f-ac55-4a74-b379-e7eca5ac2440"
   },
   "outputs": [
    {
     "data": {
      "text/plain": [
       "['Severity',\n",
       " 'Start_Time',\n",
       " 'End_Time',\n",
       " 'Start_Lat',\n",
       " 'Start_Lng',\n",
       " 'Distance(mi)',\n",
       " 'Side',\n",
       " 'County',\n",
       " 'State',\n",
       " 'Timezone',\n",
       " 'Airport_Code',\n",
       " 'Weather_Timestamp',\n",
       " 'Temperature(F)',\n",
       " 'Humidity(%)',\n",
       " 'Pressure(in)',\n",
       " 'Visibility(mi)',\n",
       " 'Wind_Direction',\n",
       " 'Wind_Speed(mph)',\n",
       " 'Weather_Condition',\n",
       " 'Amenity',\n",
       " 'Bump',\n",
       " 'Crossing',\n",
       " 'Give_Way',\n",
       " 'Junction',\n",
       " 'No_Exit',\n",
       " 'Railway',\n",
       " 'Roundabout',\n",
       " 'Station',\n",
       " 'Stop',\n",
       " 'Traffic_Calming',\n",
       " 'Traffic_Signal',\n",
       " 'Turning_Loop',\n",
       " 'Sunrise_Sunset',\n",
       " 'Civil_Twilight',\n",
       " 'Nautical_Twilight',\n",
       " 'Astronomical_Twilight']"
      ]
     },
     "execution_count": 15,
     "metadata": {
      "tags": []
     },
     "output_type": "execute_result"
    }
   ],
   "source": [
    "def get_years(df, column):\n",
    "    return df[column].apply(lambda date: date[0:4])\n",
    "\n",
    "def get_months(df, column):\n",
    "    return df[column].apply(lambda date: date[5:7])\n",
    "data.columns.to_list()"
   ]
  },
  {
   "cell_type": "code",
   "execution_count": 16,
   "metadata": {
    "id": "8C6jSd564llE"
   },
   "outputs": [],
   "source": [
    "data['Start_Time_Month'] = get_months(data, 'Start_Time')\n",
    "data['Start_Time_Year'] = get_years(data, 'Start_Time')\n",
    "\n",
    "data['End_Time_Month'] = get_months(data, 'End_Time')\n",
    "data['End_Time_Year'] = get_years(data, 'End_Time')\n",
    "\n",
    "data['Weather_Timestamp_Month'] = get_months(data, 'Weather_Timestamp')\n",
    "data['Weather_Timestamp_Year'] = get_years(data, 'Weather_Timestamp')\n",
    "\n",
    "\n",
    "data = data.drop(['Start_Time', 'End_Time', 'Weather_Timestamp'], axis=1)"
   ]
  },
  {
   "cell_type": "code",
   "execution_count": 17,
   "metadata": {
    "id": "XTEQ-Knr4lm4"
   },
   "outputs": [],
   "source": [
    "from sklearn import preprocessing\n",
    "le = preprocessing.LabelEncoder()"
   ]
  },
  {
   "cell_type": "code",
   "execution_count": 18,
   "metadata": {
    "id": "g7YmsOZl4lok"
   },
   "outputs": [],
   "source": [
    "columns= ['Side', 'County', 'State', 'Timezone', 'Airport_Code', 'Wind_Direction', 'Weather_Condition']"
   ]
  },
  {
   "cell_type": "code",
   "execution_count": 19,
   "metadata": {
    "id": "eF0eMJXj4lqe"
   },
   "outputs": [],
   "source": [
    "for i in columns:\n",
    "    le.fit(data[i])\n",
    "    data[i] = le.transform(data[i])"
   ]
  },
  {
   "cell_type": "code",
   "execution_count": 20,
   "metadata": {
    "id": "bfce4n604lr-"
   },
   "outputs": [],
   "source": [
    "def get_binary_column(df, column):\n",
    "        return data[column].apply(lambda x: 1 if x == 'Day' else 0)"
   ]
  },
  {
   "cell_type": "code",
   "execution_count": 21,
   "metadata": {
    "id": "kLKdPxb-4lt_"
   },
   "outputs": [],
   "source": [
    "data['Sunrise_Sunset'] = get_binary_column(data, 'Sunrise_Sunset')\n",
    "data['Civil_Twilight'] = get_binary_column(data, 'Civil_Twilight')\n",
    "data['Nautical_Twilight'] = get_binary_column(data, 'Nautical_Twilight')\n",
    "data['Astronomical_Twilight'] = get_binary_column(data, 'Astronomical_Twilight')"
   ]
  },
  {
   "cell_type": "code",
   "execution_count": 22,
   "metadata": {
    "colab": {
     "base_uri": "https://localhost:8080/"
    },
    "id": "T--VGda44lva",
    "outputId": "1b8e8b70-1794-4770-f0fd-94900cbafe94"
   },
   "outputs": [
    {
     "name": "stdout",
     "output_type": "stream",
     "text": [
      "<class 'pandas.core.frame.DataFrame'>\n",
      "Int64Index: 2571316 entries, 0 to 2906609\n",
      "Data columns (total 39 columns):\n",
      " #   Column                   Dtype  \n",
      "---  ------                   -----  \n",
      " 0   Severity                 int64  \n",
      " 1   Start_Lat                float64\n",
      " 2   Start_Lng                float64\n",
      " 3   Distance(mi)             float64\n",
      " 4   Side                     int64  \n",
      " 5   County                   int64  \n",
      " 6   State                    int64  \n",
      " 7   Timezone                 int64  \n",
      " 8   Airport_Code             int64  \n",
      " 9   Temperature(F)           float64\n",
      " 10  Humidity(%)              float64\n",
      " 11  Pressure(in)             float64\n",
      " 12  Visibility(mi)           float64\n",
      " 13  Wind_Direction           int64  \n",
      " 14  Wind_Speed(mph)          float64\n",
      " 15  Weather_Condition        int64  \n",
      " 16  Amenity                  bool   \n",
      " 17  Bump                     bool   \n",
      " 18  Crossing                 bool   \n",
      " 19  Give_Way                 bool   \n",
      " 20  Junction                 bool   \n",
      " 21  No_Exit                  bool   \n",
      " 22  Railway                  bool   \n",
      " 23  Roundabout               bool   \n",
      " 24  Station                  bool   \n",
      " 25  Stop                     bool   \n",
      " 26  Traffic_Calming          bool   \n",
      " 27  Traffic_Signal           bool   \n",
      " 28  Turning_Loop             bool   \n",
      " 29  Sunrise_Sunset           int64  \n",
      " 30  Civil_Twilight           int64  \n",
      " 31  Nautical_Twilight        int64  \n",
      " 32  Astronomical_Twilight    int64  \n",
      " 33  Start_Time_Month         object \n",
      " 34  Start_Time_Year          object \n",
      " 35  End_Time_Month           object \n",
      " 36  End_Time_Year            object \n",
      " 37  Weather_Timestamp_Month  object \n",
      " 38  Weather_Timestamp_Year   object \n",
      "dtypes: bool(13), float64(8), int64(12), object(6)\n",
      "memory usage: 561.6+ MB\n"
     ]
    }
   ],
   "source": [
    "data.info()"
   ]
  },
  {
   "cell_type": "code",
   "execution_count": 23,
   "metadata": {
    "id": "J277HSg54lxf"
   },
   "outputs": [],
   "source": [
    "data_y = data['Severity']\n",
    "data_X = data.drop('Severity', axis=1)\n",
    "#data_X = X.astype(np.float)"
   ]
  },
  {
   "cell_type": "code",
   "execution_count": 24,
   "metadata": {
    "id": "nyWVjAhD4lzD"
   },
   "outputs": [],
   "source": [
    "scaler = StandardScaler()\n",
    "\n",
    "data_X = scaler.fit_transform(data_X)"
   ]
  },
  {
   "cell_type": "code",
   "execution_count": 25,
   "metadata": {
    "id": "H0jRHFiV4l0r"
   },
   "outputs": [],
   "source": [
    "import sklearn\n",
    "\n",
    "X_train, X_test, y_train, y_test = train_test_split(data_X, data_y, train_size=0.7, random_state=100)"
   ]
  },
  {
   "cell_type": "markdown",
   "metadata": {
    "id": "lYIXiOwk52Vt"
   },
   "source": [
    "DECISION TREE"
   ]
  },
  {
   "cell_type": "code",
   "execution_count": 26,
   "metadata": {
    "id": "RERcJFfU549n"
   },
   "outputs": [],
   "source": [
    "from sklearn.tree import DecisionTreeClassifier\n",
    "from sklearn.metrics import accuracy_score\n",
    "clf = DecisionTreeClassifier(random_state=42)\n",
    "\n",
    "# Train & Test\n",
    "clf.fit(X_train, y_train)\n",
    "y_pred= clf.predict(X_test)"
   ]
  },
  {
   "cell_type": "code",
   "execution_count": 27,
   "metadata": {
    "colab": {
     "base_uri": "https://localhost:8080/"
    },
    "id": "RT09XDfs547f",
    "outputId": "ce1d061b-cc1f-4418-c494-5af4a3051533"
   },
   "outputs": [
    {
     "name": "stdout",
     "output_type": "stream",
     "text": [
      "Decision Tree accuracy_score: 0.812.\n"
     ]
    }
   ],
   "source": [
    "# Print accuracy_entropy\n",
    "print('Decision Tree accuracy_score: {:.3f}.'.format(accuracy_score(y_test, y_pred)))"
   ]
  },
  {
   "cell_type": "markdown",
   "metadata": {
    "id": "OqzmlJBf6IoX"
   },
   "source": [
    "NN"
   ]
  },
  {
   "cell_type": "code",
   "execution_count": 28,
   "metadata": {
    "colab": {
     "base_uri": "https://localhost:8080/"
    },
    "id": "elafiGuM545r",
    "outputId": "d93961e0-d14a-4aa8-a99b-b24fc58330d7"
   },
   "outputs": [
    {
     "data": {
      "text/plain": [
       "(2571316, 39)"
      ]
     },
     "execution_count": 28,
     "metadata": {
      "tags": []
     },
     "output_type": "execute_result"
    }
   ],
   "source": [
    "data.shape"
   ]
  },
  {
   "cell_type": "code",
   "execution_count": 29,
   "metadata": {
    "id": "OPUuyUeB543k"
   },
   "outputs": [],
   "source": [
    "y_train = y_train -1\n",
    "y_test = y_test - 1"
   ]
  },
  {
   "cell_type": "code",
   "execution_count": 30,
   "metadata": {
    "colab": {
     "base_uri": "https://localhost:8080/"
    },
    "id": "IJuVd-y8541g",
    "outputId": "b7f26c36-0ee4-4def-91fa-178b6aa87b42"
   },
   "outputs": [
    {
     "name": "stdout",
     "output_type": "stream",
     "text": [
      "Epoch 1/20\n",
      "44998/44998 [==============================] - 72s 2ms/step - loss: 0.5651 - accuracy: 0.7557 - val_loss: 0.5173 - val_accuracy: 0.7730\n",
      "Epoch 2/20\n",
      "44998/44998 [==============================] - 71s 2ms/step - loss: 0.5111 - accuracy: 0.7768 - val_loss: 0.5040 - val_accuracy: 0.7778\n",
      "Epoch 3/20\n",
      "44998/44998 [==============================] - 71s 2ms/step - loss: 0.5028 - accuracy: 0.7808 - val_loss: 0.5008 - val_accuracy: 0.7800\n",
      "Epoch 4/20\n",
      "44998/44998 [==============================] - 73s 2ms/step - loss: 0.4981 - accuracy: 0.7829 - val_loss: 0.4969 - val_accuracy: 0.7843\n",
      "Epoch 5/20\n",
      "44998/44998 [==============================] - 72s 2ms/step - loss: 0.4953 - accuracy: 0.7846 - val_loss: 0.4963 - val_accuracy: 0.7833\n",
      "Epoch 6/20\n",
      "44998/44998 [==============================] - 72s 2ms/step - loss: 0.4918 - accuracy: 0.7867 - val_loss: 0.4923 - val_accuracy: 0.7861\n",
      "Epoch 7/20\n",
      "44998/44998 [==============================] - 72s 2ms/step - loss: 0.4896 - accuracy: 0.7872 - val_loss: 0.4934 - val_accuracy: 0.7856\n",
      "Epoch 8/20\n",
      "44998/44998 [==============================] - 72s 2ms/step - loss: 0.4877 - accuracy: 0.7883 - val_loss: 0.4911 - val_accuracy: 0.7871\n",
      "Epoch 9/20\n",
      "44998/44998 [==============================] - 72s 2ms/step - loss: 0.4857 - accuracy: 0.7896 - val_loss: 0.4891 - val_accuracy: 0.7879\n",
      "Epoch 10/20\n",
      "44998/44998 [==============================] - 72s 2ms/step - loss: 0.4865 - accuracy: 0.7895 - val_loss: 0.4889 - val_accuracy: 0.7876\n",
      "Epoch 11/20\n",
      "44998/44998 [==============================] - 72s 2ms/step - loss: 0.4854 - accuracy: 0.7898 - val_loss: 0.4868 - val_accuracy: 0.7893\n",
      "Epoch 12/20\n",
      "44998/44998 [==============================] - 72s 2ms/step - loss: 0.4833 - accuracy: 0.7902 - val_loss: 0.4867 - val_accuracy: 0.7897\n",
      "Epoch 13/20\n",
      "44998/44998 [==============================] - 74s 2ms/step - loss: 0.4828 - accuracy: 0.7908 - val_loss: 0.4853 - val_accuracy: 0.7890\n",
      "Epoch 14/20\n",
      "44998/44998 [==============================] - 72s 2ms/step - loss: 0.4827 - accuracy: 0.7910 - val_loss: 0.4852 - val_accuracy: 0.7900\n",
      "Epoch 15/20\n",
      "44998/44998 [==============================] - 72s 2ms/step - loss: 0.4816 - accuracy: 0.7913 - val_loss: 0.4862 - val_accuracy: 0.7899\n",
      "Epoch 16/20\n",
      "44998/44998 [==============================] - 72s 2ms/step - loss: 0.4810 - accuracy: 0.7925 - val_loss: 0.4854 - val_accuracy: 0.7903\n",
      "Epoch 17/20\n",
      "44998/44998 [==============================] - 73s 2ms/step - loss: 0.4811 - accuracy: 0.7926 - val_loss: 0.4850 - val_accuracy: 0.7896\n",
      "Epoch 18/20\n",
      "44998/44998 [==============================] - 73s 2ms/step - loss: 0.4815 - accuracy: 0.7912 - val_loss: 0.4839 - val_accuracy: 0.7896\n",
      "Epoch 19/20\n",
      "44998/44998 [==============================] - 74s 2ms/step - loss: 0.4797 - accuracy: 0.7929 - val_loss: 0.4829 - val_accuracy: 0.7918\n",
      "Epoch 20/20\n",
      "44998/44998 [==============================] - 74s 2ms/step - loss: 0.4787 - accuracy: 0.7939 - val_loss: 0.4822 - val_accuracy: 0.7909\n"
     ]
    }
   ],
   "source": [
    "from keras.models import Sequential,Input,Model\n",
    "inputs = tf.keras.Input(shape=(data_X.shape[1],))\n",
    "x = tf.keras.layers.Dense(64, activation='relu')(inputs)\n",
    "x = tf.keras.layers.Dense(64, activation='relu')(x)\n",
    "outputs = tf.keras.layers.Dense(4, activation='softmax')(x)\n",
    "\n",
    "model = tf.keras.Model(inputs, outputs)\n",
    "\n",
    "model.compile(\n",
    "    optimizer='adam',\n",
    "    loss='sparse_categorical_crossentropy',\n",
    "    metrics=['accuracy']\n",
    ")\n",
    "\n",
    "batch_size = 32\n",
    "epochs = 20\n",
    "\n",
    "history = model.fit(\n",
    "    X_train,\n",
    "    y_train,\n",
    "    validation_split=0.2,\n",
    "    batch_size=batch_size,\n",
    "    epochs=epochs,\n",
    "        )"
   ]
  },
  {
   "cell_type": "code",
   "execution_count": 31,
   "metadata": {
    "colab": {
     "base_uri": "https://localhost:8080/"
    },
    "id": "Q8re_suE54zQ",
    "outputId": "5265396a-d902-476e-b3ca-bd3cb5096646"
   },
   "outputs": [
    {
     "name": "stdout",
     "output_type": "stream",
     "text": [
      "24107/24107 [==============================] - 27s 1ms/step - loss: 0.4798 - accuracy: 0.7918\n"
     ]
    },
    {
     "data": {
      "text/plain": [
       "[0.4798257648944855, 0.7918498516082764]"
      ]
     },
     "execution_count": 31,
     "metadata": {
      "tags": []
     },
     "output_type": "execute_result"
    }
   ],
   "source": [
    "model.evaluate(X_test,y_test)"
   ]
  },
  {
   "cell_type": "markdown",
   "metadata": {
    "id": "fjugWJQz6TnK"
   },
   "source": [
    "SVM"
   ]
  },
  {
   "cell_type": "code",
   "execution_count": 34,
   "metadata": {
    "colab": {
     "base_uri": "https://localhost:8080/",
     "height": 17
    },
    "id": "swsoBJXvANcx",
    "outputId": "fc78f703-d9a4-4692-dbff-4b20fb062edc"
   },
   "outputs": [
    {
     "data": {
      "text/html": [
       "        <script type=\"text/javascript\">\n",
       "        window.PlotlyConfig = {MathJaxConfig: 'local'};\n",
       "        if (window.MathJax) {MathJax.Hub.Config({SVG: {font: \"STIX-Web\"}});}\n",
       "        if (typeof require !== 'undefined') {\n",
       "        require.undef(\"plotly\");\n",
       "        requirejs.config({\n",
       "            paths: {\n",
       "                'plotly': ['https://cdn.plot.ly/plotly-latest.min']\n",
       "            }\n",
       "        });\n",
       "        require(['plotly'], function(Plotly) {\n",
       "            window._Plotly = Plotly;\n",
       "        });\n",
       "        }\n",
       "        </script>\n",
       "        "
      ]
     },
     "metadata": {
      "tags": []
     },
     "output_type": "display_data"
    }
   ],
   "source": [
    "import pandas as pd\n",
    "import numpy as np\n",
    "from matplotlib import pyplot as plt\n",
    "import seaborn as sns\n",
    "import plotly.express as px\n",
    "from plotly.offline import init_notebook_mode, iplot\n",
    "import plotly.graph_objects as go\n",
    "import warnings\n",
    "\n",
    "init_notebook_mode(connected=True)\n",
    "\n",
    "warnings.filterwarnings(\"ignore\")\n",
    "\n",
    "%matplotlib inline"
   ]
  },
  {
   "cell_type": "code",
   "execution_count": 35,
   "metadata": {
    "id": "XA7gSkh5AQfY"
   },
   "outputs": [],
   "source": [
    "data = pd.read_csv('Accidents_data_file.csv')"
   ]
  },
  {
   "cell_type": "code",
   "execution_count": 36,
   "metadata": {
    "id": "XdBKzgY36SWg"
   },
   "outputs": [],
   "source": [
    "# Due to resources constraint, we had to limit the subset size for SVM modelling. So, \n",
    "# the result for SVM might vary here as compared to what was presented in presnetation\n",
    "data = data[:50000]"
   ]
  },
  {
   "cell_type": "code",
   "execution_count": 37,
   "metadata": {
    "id": "3aliqjkZ6a-B"
   },
   "outputs": [],
   "source": [
    "null_columns = ['End_Lat', 'End_Lng', 'Number', 'Wind_Chill(F)', 'Precipitation(in)']\n",
    "\n",
    "data.drop(null_columns, axis=1, inplace = True)"
   ]
  },
  {
   "cell_type": "code",
   "execution_count": 38,
   "metadata": {
    "id": "jgFXD07f6dOf"
   },
   "outputs": [],
   "source": [
    "data.dropna(axis=0, inplace = True)"
   ]
  },
  {
   "cell_type": "code",
   "execution_count": 39,
   "metadata": {
    "colab": {
     "base_uri": "https://localhost:8080/"
    },
    "id": "0E8-aLoK6fZr",
    "outputId": "a2cd3ee7-a24e-4662-f90e-f2e07b2c81ca"
   },
   "outputs": [
    {
     "data": {
      "text/plain": [
       "{'Airport_Code': 376,\n",
       " 'Astronomical_Twilight': 2,\n",
       " 'City': 516,\n",
       " 'Civil_Twilight': 2,\n",
       " 'Country': 1,\n",
       " 'County': 255,\n",
       " 'Description': 889,\n",
       " 'End_Time': 895,\n",
       " 'ID': 895,\n",
       " 'Nautical_Twilight': 2,\n",
       " 'Side': 2,\n",
       " 'Start_Time': 895,\n",
       " 'State': 39,\n",
       " 'Street': 712,\n",
       " 'Sunrise_Sunset': 2,\n",
       " 'Timezone': 4,\n",
       " 'Weather_Condition': 33,\n",
       " 'Weather_Timestamp': 893,\n",
       " 'Wind_Direction': 23,\n",
       " 'Zipcode': 826}"
      ]
     },
     "execution_count": 39,
     "metadata": {
      "tags": []
     },
     "output_type": "execute_result"
    }
   ],
   "source": [
    "{column: len(data[column].unique()) for column in data.columns if data.dtypes[column] == 'object'}"
   ]
  },
  {
   "cell_type": "code",
   "execution_count": 40,
   "metadata": {
    "id": "a-3inU456iYD"
   },
   "outputs": [],
   "source": [
    "unneeded_columns = ['ID', 'Description', 'Street', 'City', 'Zipcode', 'Country']\n",
    "data.columns.to_list()\n",
    "data.drop(unneeded_columns, axis=1, inplace = True)"
   ]
  },
  {
   "cell_type": "code",
   "execution_count": 41,
   "metadata": {
    "colab": {
     "base_uri": "https://localhost:8080/"
    },
    "id": "KTgEqDJk6kQl",
    "outputId": "6dcb4e47-4afd-4645-8402-074851b00b90"
   },
   "outputs": [
    {
     "data": {
      "text/plain": [
       "['Severity',\n",
       " 'Start_Time',\n",
       " 'End_Time',\n",
       " 'Start_Lat',\n",
       " 'Start_Lng',\n",
       " 'Distance(mi)',\n",
       " 'Side',\n",
       " 'County',\n",
       " 'State',\n",
       " 'Timezone',\n",
       " 'Airport_Code',\n",
       " 'Weather_Timestamp',\n",
       " 'Temperature(F)',\n",
       " 'Humidity(%)',\n",
       " 'Pressure(in)',\n",
       " 'Visibility(mi)',\n",
       " 'Wind_Direction',\n",
       " 'Wind_Speed(mph)',\n",
       " 'Weather_Condition',\n",
       " 'Amenity',\n",
       " 'Bump',\n",
       " 'Crossing',\n",
       " 'Give_Way',\n",
       " 'Junction',\n",
       " 'No_Exit',\n",
       " 'Railway',\n",
       " 'Roundabout',\n",
       " 'Station',\n",
       " 'Stop',\n",
       " 'Traffic_Calming',\n",
       " 'Traffic_Signal',\n",
       " 'Turning_Loop',\n",
       " 'Sunrise_Sunset',\n",
       " 'Civil_Twilight',\n",
       " 'Nautical_Twilight',\n",
       " 'Astronomical_Twilight']"
      ]
     },
     "execution_count": 41,
     "metadata": {
      "tags": []
     },
     "output_type": "execute_result"
    }
   ],
   "source": [
    "def get_years(df, column):\n",
    "    return df[column].apply(lambda date: date[0:4])\n",
    "\n",
    "def get_months(df, column):\n",
    "    return df[column].apply(lambda date: date[5:7])\n",
    "data.columns.to_list()"
   ]
  },
  {
   "cell_type": "code",
   "execution_count": 42,
   "metadata": {
    "id": "od3sl3y-6mDm"
   },
   "outputs": [],
   "source": [
    "data['Start_Time_Month'] = get_months(data, 'Start_Time')\n",
    "data['Start_Time_Year'] = get_years(data, 'Start_Time')\n",
    "\n",
    "data['End_Time_Month'] = get_months(data, 'End_Time')\n",
    "data['End_Time_Year'] = get_years(data, 'End_Time')\n",
    "\n",
    "data['Weather_Timestamp_Month'] = get_months(data, 'Weather_Timestamp')\n",
    "data['Weather_Timestamp_Year'] = get_years(data, 'Weather_Timestamp')\n",
    "\n",
    "data = data.drop(['Start_Time', 'End_Time', 'Weather_Timestamp'], axis=1)"
   ]
  },
  {
   "cell_type": "code",
   "execution_count": 43,
   "metadata": {
    "id": "mLa4fbL-6ox5"
   },
   "outputs": [],
   "source": [
    "from sklearn import preprocessing\n",
    "le = preprocessing.LabelEncoder()"
   ]
  },
  {
   "cell_type": "code",
   "execution_count": 44,
   "metadata": {
    "id": "zM45fZSU6qf6"
   },
   "outputs": [],
   "source": [
    "columns= ['Side', 'County', 'State', 'Timezone', 'Airport_Code', 'Wind_Direction', 'Weather_Condition']"
   ]
  },
  {
   "cell_type": "code",
   "execution_count": 45,
   "metadata": {
    "id": "ImMTBqsm6sMQ"
   },
   "outputs": [],
   "source": [
    "for i in columns:\n",
    "    le.fit(data[i])\n",
    "    data[i] = le.transform(data[i])"
   ]
  },
  {
   "cell_type": "code",
   "execution_count": 46,
   "metadata": {
    "id": "BOkR_Ftm6tkb"
   },
   "outputs": [],
   "source": [
    "def get_binary_column(df, column):\n",
    "        return data[column].apply(lambda x: 1 if x == 'Day' else 0)"
   ]
  },
  {
   "cell_type": "code",
   "execution_count": 47,
   "metadata": {
    "id": "xuZNgYWM6vAk"
   },
   "outputs": [],
   "source": [
    "data['Sunrise_Sunset'] = get_binary_column(data, 'Sunrise_Sunset')\n",
    "data['Civil_Twilight'] = get_binary_column(data, 'Civil_Twilight')\n",
    "data['Nautical_Twilight'] = get_binary_column(data, 'Nautical_Twilight')\n",
    "data['Astronomical_Twilight'] = get_binary_column(data, 'Astronomical_Twilight')"
   ]
  },
  {
   "cell_type": "code",
   "execution_count": 48,
   "metadata": {
    "id": "123eyO2c6xQJ"
   },
   "outputs": [],
   "source": [
    "data_y = data['Severity']\n",
    "data_X = data.drop('Severity', axis=1)\n",
    "#data_X = X.astype(np.float)"
   ]
  },
  {
   "cell_type": "code",
   "execution_count": 49,
   "metadata": {
    "id": "vQuK2JkO6ykd"
   },
   "outputs": [],
   "source": [
    "from sklearn.preprocessing import StandardScaler\n",
    "from sklearn.model_selection import train_test_split\n",
    "import pandas as pd\n",
    "import tensorflow as tf"
   ]
  },
  {
   "cell_type": "code",
   "execution_count": 50,
   "metadata": {
    "id": "4DmXfjLz60Ac"
   },
   "outputs": [],
   "source": [
    "scaler = StandardScaler()\n",
    "\n",
    "data_X = scaler.fit_transform(data_X)"
   ]
  },
  {
   "cell_type": "code",
   "execution_count": 51,
   "metadata": {
    "id": "xtDcQiOw61sZ"
   },
   "outputs": [],
   "source": [
    "import sklearn\n",
    "\n",
    "X_train, X_test, y_train, y_test = train_test_split(data_X, data_y, train_size=0.7, random_state=100)"
   ]
  },
  {
   "cell_type": "code",
   "execution_count": 52,
   "metadata": {
    "colab": {
     "base_uri": "https://localhost:8080/"
    },
    "id": "HM_20bW_63er",
    "outputId": "2884cff8-4676-4203-edde-40ea94efd3ad"
   },
   "outputs": [
    {
     "data": {
      "text/plain": [
       "SVC(C=1.0, break_ties=False, cache_size=200, class_weight=None, coef0=0.0,\n",
       "    decision_function_shape='ovr', degree=3, gamma='scale', kernel='rbf',\n",
       "    max_iter=-1, probability=False, random_state=None, shrinking=True,\n",
       "    tol=0.001, verbose=False)"
      ]
     },
     "execution_count": 52,
     "metadata": {
      "tags": []
     },
     "output_type": "execute_result"
    }
   ],
   "source": [
    "from sklearn import svm\n",
    "clf = svm.SVC()\n",
    "clf.fit(X_train, y_train)"
   ]
  },
  {
   "cell_type": "code",
   "execution_count": 53,
   "metadata": {
    "colab": {
     "base_uri": "https://localhost:8080/"
    },
    "id": "tHgVDMnu65Dv",
    "outputId": "0fb04e41-03ff-4805-ab94-812c6de7d00a"
   },
   "outputs": [
    {
     "name": "stdout",
     "output_type": "stream",
     "text": [
      "Decision Tree accuracy_score: 0.777.\n"
     ]
    }
   ],
   "source": [
    "from sklearn.metrics import accuracy_score\n",
    "y_pred= clf.predict(X_test)\n",
    "print('Decision Tree accuracy_score: {:.3f}.'.format(accuracy_score(y_test, y_pred)))"
   ]
  },
  {
   "cell_type": "code",
   "execution_count": null,
   "metadata": {
    "id": "3azzaAx966-n"
   },
   "outputs": [],
   "source": []
  }
 ],
 "metadata": {
  "colab": {
   "name": "Accident_severity_prediction_modelling.ipynb",
   "provenance": []
  },
  "kernelspec": {
   "display_name": "Python 3",
   "language": "python",
   "name": "python3"
  },
  "language_info": {
   "codemirror_mode": {
    "name": "ipython",
    "version": 3
   },
   "file_extension": ".py",
   "mimetype": "text/x-python",
   "name": "python",
   "nbconvert_exporter": "python",
   "pygments_lexer": "ipython3",
   "version": "3.9.1"
  }
 },
 "nbformat": 4,
 "nbformat_minor": 1
}
